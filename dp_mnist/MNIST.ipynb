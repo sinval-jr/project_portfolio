{
  "cells": [
    {
      "cell_type": "markdown",
      "metadata": {
        "id": "sfaEm1TJ0fMe"
      },
      "source": [
        "**Importação das bibliotecas**"
      ]
    },
    {
      "cell_type": "code",
      "execution_count": null,
      "metadata": {
        "id": "MMMdtc83X0BE"
      },
      "outputs": [],
      "source": [
        "import tensorflow as tf\n",
        "import keras\n",
        "import numpy as np\n",
        "from tensorflow.keras.datasets import mnist\n",
        "from tensorflow.keras.models import Sequential\n",
        "from tensorflow.keras.layers import InputLayer, Dense, Flatten, Dropout, MaxPooling2D, BatchNormalization, Conv2D\n",
        "from tensorflow.keras import utils as np_utils\n",
        "import matplotlib.pyplot as plt"
      ]
    },
    {
      "cell_type": "markdown",
      "metadata": {
        "id": "gFIScXn80cfj"
      },
      "source": [
        "**Carregamento do dataset**"
      ]
    },
    {
      "cell_type": "code",
      "execution_count": null,
      "metadata": {
        "colab": {
          "base_uri": "https://localhost:8080/"
        },
        "id": "usrmn28FYtCF",
        "outputId": "e2dcbb5d-6e42-4410-e6b7-ab5d5b11bfcf"
      },
      "outputs": [
        {
          "name": "stdout",
          "output_type": "stream",
          "text": [
            "Downloading data from https://storage.googleapis.com/tensorflow/tf-keras-datasets/mnist.npz\n",
            "\u001b[1m11490434/11490434\u001b[0m \u001b[32m━━━━━━━━━━━━━━━━━━━━\u001b[0m\u001b[37m\u001b[0m \u001b[1m0s\u001b[0m 0us/step\n"
          ]
        }
      ],
      "source": [
        "(X_treinamento, Y_treinamento), (X_teste, Y_teste) = mnist.load_data()"
      ]
    },
    {
      "cell_type": "code",
      "execution_count": null,
      "metadata": {
        "id": "cYPIkgrVakUN"
      },
      "outputs": [],
      "source": [
        "X_treinamento = X_treinamento.reshape(X_treinamento.shape[0],28,28,1)\n",
        "X_teste = X_teste.reshape(X_teste.shape[0],28,28,1)\n",
        "\n",
        "X_treinamento = X_treinamento.astype(\"float32\")\n",
        "X_teste = X_teste.astype(\"float32\")\n",
        "\n",
        "X_treinamento /=255\n",
        "X_teste /= 255"
      ]
    },
    {
      "cell_type": "code",
      "execution_count": null,
      "metadata": {
        "id": "YWidUQ1Kba2Y"
      },
      "outputs": [],
      "source": [
        "Y_treinamento = np_utils.to_categorical(Y_treinamento,10)\n",
        "Y_teste = np_utils.to_categorical(Y_teste,10)"
      ]
    },
    {
      "cell_type": "markdown",
      "metadata": {
        "id": "aD8pNSwX0R77"
      },
      "source": [
        "**Criação da arquitetura da Rede Neural**"
      ]
    },
    {
      "cell_type": "code",
      "execution_count": null,
      "metadata": {
        "id": "E0lZsKJX3_QL"
      },
      "outputs": [],
      "source": [
        "rede_neural = Sequential()\n",
        "\n",
        "rede_neural.add(InputLayer(shape =(28, 28, 1)))\n",
        "\n",
        "rede_neural.add(Conv2D(filters = 32, kernel_size = (3, 3), activation = 'relu'))\n",
        "rede_neural.add(BatchNormalization())\n",
        "rede_neural.add(MaxPooling2D(pool_size = (2, 2)))\n",
        "\n",
        "rede_neural.add(Conv2D(filters = 32, kernel_size = (3, 3), activation = 'relu'))\n",
        "rede_neural.add(BatchNormalization())\n",
        "rede_neural.add(MaxPooling2D(pool_size = (2, 2)))\n",
        "\n",
        "rede_neural.add(Flatten())\n",
        "\n",
        "rede_neural.add(Dense(units = 128, activation = 'relu'))\n",
        "rede_neural.add(Dropout(0.2))\n",
        "rede_neural.add(Dense(units = 128, activation = 'relu'))\n",
        "rede_neural.add(Dropout(0.2))\n",
        "rede_neural.add(Dense(units = 10, activation = 'softmax'))\n",
        "rede_neural.compile(loss = 'categorical_crossentropy', optimizer = 'adam', metrics = ['accuracy'])"
      ]
    },
    {
      "cell_type": "markdown",
      "metadata": {
        "id": "OsctIKtv0kuY"
      },
      "source": [
        "**Treinamento e avaliação do Modelo**"
      ]
    },
    {
      "cell_type": "code",
      "execution_count": null,
      "metadata": {
        "colab": {
          "base_uri": "https://localhost:8080/"
        },
        "collapsed": true,
        "id": "vWpKVf1E4RML",
        "outputId": "0089138e-93ba-4fb4-ec83-19053ea96810"
      },
      "outputs": [
        {
          "name": "stdout",
          "output_type": "stream",
          "text": [
            "Epoch 1/5\n",
            "\u001b[1m469/469\u001b[0m \u001b[32m━━━━━━━━━━━━━━━━━━━━\u001b[0m\u001b[37m\u001b[0m \u001b[1m68s\u001b[0m 138ms/step - accuracy: 0.8527 - loss: 0.4592 - val_accuracy: 0.9575 - val_loss: 0.1414\n",
            "Epoch 2/5\n",
            "\u001b[1m469/469\u001b[0m \u001b[32m━━━━━━━━━━━━━━━━━━━━\u001b[0m\u001b[37m\u001b[0m \u001b[1m79s\u001b[0m 132ms/step - accuracy: 0.9811 - loss: 0.0636 - val_accuracy: 0.9845 - val_loss: 0.0506\n",
            "Epoch 3/5\n",
            "\u001b[1m469/469\u001b[0m \u001b[32m━━━━━━━━━━━━━━━━━━━━\u001b[0m\u001b[37m\u001b[0m \u001b[1m63s\u001b[0m 135ms/step - accuracy: 0.9856 - loss: 0.0464 - val_accuracy: 0.9900 - val_loss: 0.0340\n",
            "Epoch 4/5\n",
            "\u001b[1m469/469\u001b[0m \u001b[32m━━━━━━━━━━━━━━━━━━━━\u001b[0m\u001b[37m\u001b[0m \u001b[1m63s\u001b[0m 134ms/step - accuracy: 0.9891 - loss: 0.0364 - val_accuracy: 0.9884 - val_loss: 0.0390\n",
            "Epoch 5/5\n",
            "\u001b[1m469/469\u001b[0m \u001b[32m━━━━━━━━━━━━━━━━━━━━\u001b[0m\u001b[37m\u001b[0m \u001b[1m85s\u001b[0m 140ms/step - accuracy: 0.9910 - loss: 0.0300 - val_accuracy: 0.9876 - val_loss: 0.0510\n"
          ]
        },
        {
          "data": {
            "text/plain": [
              "<keras.src.callbacks.history.History at 0x7c08cb186ea0>"
            ]
          },
          "execution_count": 15,
          "metadata": {},
          "output_type": "execute_result"
        }
      ],
      "source": [
        "rede_neural.fit(X_treinamento, Y_treinamento, batch_size = 128,\n",
        "                epochs = 5, validation_data = (X_teste, Y_teste))"
      ]
    },
    {
      "cell_type": "code",
      "execution_count": null,
      "metadata": {
        "colab": {
          "base_uri": "https://localhost:8080/"
        },
        "id": "KqcohxFb4hzk",
        "outputId": "7c3886fe-06dc-4edc-ee45-e21b91b9a827"
      },
      "outputs": [
        {
          "name": "stdout",
          "output_type": "stream",
          "text": [
            "\u001b[1m313/313\u001b[0m \u001b[32m━━━━━━━━━━━━━━━━━━━━\u001b[0m\u001b[37m\u001b[0m \u001b[1m3s\u001b[0m 9ms/step - accuracy: 0.9845 - loss: 0.0648\n"
          ]
        }
      ],
      "source": [
        "resultado = rede_neural.evaluate(X_teste, Y_teste)\n",
        "resultado"
      ]
    }
  ],
  "metadata": {
    "colab": {
      "provenance": []
    },
    "kernelspec": {
      "display_name": "Python 3",
      "name": "python3"
    },
    "language_info": {
      "name": "python"
    }
  },
  "nbformat": 4,
  "nbformat_minor": 0
}
