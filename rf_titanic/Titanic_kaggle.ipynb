{
  "cells": [
    {
      "cell_type": "code",
      "execution_count": null,
      "metadata": {
        "id": "VWppSaieu-es"
      },
      "outputs": [],
      "source": [
        "import pandas as pd\n",
        "import numpy as np\n",
        "import sklearn\n",
        "import scikeras\n",
        "from sklearn.preprocessing import LabelEncoder\n",
        "\n",
        "from sklearn.model_selection import train_test_split\n",
        "from sklearn.ensemble import RandomForestClassifier\n",
        "from sklearn.metrics import accuracy_score\n",
        "\n",
        "from sklearn.model_selection import GridSearchCV\n",
        "from sklearn.model_selection import cross_val_score"
      ]
    },
    {
      "cell_type": "markdown",
      "metadata": {
        "id": "WWpAXDdnu5HD"
      },
      "source": [
        "**Carregamento das Bases**"
      ]
    },
    {
      "cell_type": "code",
      "execution_count": 4,
      "metadata": {
        "id": "VeIXmePwvfMx"
      },
      "outputs": [],
      "source": [
        "X_treinamento = pd.read_csv(\"/content/train.csv\")\n",
        "X_teste = pd.read_csv(\"/content/test.csv\") #Realizar a previsão final\n",
        "y = pd.read_csv(\"/content/gender_submission.csv\") #validação"
      ]
    },
    {
      "cell_type": "markdown",
      "metadata": {
        "id": "sfNa-LOZoS2P"
      },
      "source": [
        "**Base de Treinamento**"
      ]
    },
    {
      "cell_type": "code",
      "execution_count": 18,
      "metadata": {
        "colab": {
          "base_uri": "https://localhost:8080/"
        },
        "id": "_OIIm6FU28BN",
        "outputId": "0325de30-4e7a-4163-b89e-e6ef1f8c892d"
      },
      "outputs": [
        {
          "name": "stdout",
          "output_type": "stream",
          "text": [
            "Valores ausentes após o pré-processamento:\n",
            "Pclass      0\n",
            "Sex         0\n",
            "Age         0\n",
            "SibSp       0\n",
            "Parch       0\n",
            "Embarked    0\n",
            "dtype: int64\n"
          ]
        }
      ],
      "source": [
        "X_treinamento_new = X_treinamento\n",
        "#X_treinamento\n",
        "\n",
        "y_treinamento = X_treinamento['Survived']\n",
        "#y_treinamento = X_treinamento['PassengerId','Survived']\n",
        "\n",
        "# Remoção de colunas\n",
        "colunas_para_remover = [\"Name\", \"Ticket\", \"Cabin\", \"PassengerId\", \"Survived\", \"Fare\"]\n",
        "X_treinamento_new = X_treinamento_new.drop(colunas_para_remover, axis=1)\n",
        "\n",
        "#Tratamento variáveis categóricas\n",
        "le = LabelEncoder()\n",
        "X_treinamento_new['Sex'] = le.fit_transform(X_treinamento_new['Sex'])\n",
        "X_treinamento_new['Embarked'] = le.fit_transform(X_treinamento_new['Embarked'])\n",
        "\n",
        "#Tratamento de valores ausentes (Age)\n",
        "mediana_idade = X_treinamento_new['Age'].median()\n",
        "X_treinamento_new['Age'] = X_treinamento_new['Age'].fillna(mediana_idade)\n",
        "\n",
        "print(\"Valores ausentes após o pré-processamento:\")\n",
        "print(X_treinamento_new.isnull().sum())"
      ]
    },
    {
      "cell_type": "markdown",
      "metadata": {
        "id": "aIEHydTMrt68"
      },
      "source": [
        "**Hiperparâmetros**"
      ]
    },
    {
      "cell_type": "code",
      "execution_count": 38,
      "metadata": {
        "colab": {
          "base_uri": "https://localhost:8080/"
        },
        "id": "gMiFEmkUq-4U",
        "outputId": "cd3d413c-29fa-4e4d-ee70-93853f840448"
      },
      "outputs": [
        {
          "name": "stdout",
          "output_type": "stream",
          "text": [
            "Melhores parâmetros encontrados: {'max_depth': 5, 'min_samples_split': 2, 'n_estimators': 200}\n",
            "Melhor acurácia (média da validação cruzada): 0.8238026489234824\n"
          ]
        }
      ],
      "source": [
        "modelo_rf_cv = RandomForestClassifier(random_state=42)\n",
        "parametros = {\n",
        "    'n_estimators': [50, 100, 200],\n",
        "    'max_depth': [5, 10, None],  # None significa sem limite\n",
        "    'min_samples_split': [2, 5, 10]\n",
        "}\n",
        "\n",
        "# Usando GridSearchCV para encontrar a melhor combinação\n",
        "grid_search = GridSearchCV(estimator=modelo_rf_cv, param_grid=parametros, cv=5, scoring='accuracy')\n",
        "\n",
        "# Treinando o grid search\n",
        "grid_search.fit(X_treinamento_new, y_treinamento)\n",
        "\n",
        "# Mostrando os melhores parâmetros encontrados\n",
        "print(\"Melhores parâmetros encontrados:\", grid_search.best_params_)\n",
        "print(\"Melhor acurácia (média da validação cruzada):\", grid_search.best_score_)\n",
        "modelo_otimizado = grid_search.best_estimator_"
      ]
    },
    {
      "cell_type": "markdown",
      "metadata": {
        "id": "U_aHiR2YsW8C"
      },
      "source": [
        "**Validação Cruzada**"
      ]
    },
    {
      "cell_type": "code",
      "execution_count": 39,
      "metadata": {
        "colab": {
          "base_uri": "https://localhost:8080/"
        },
        "id": "V7l9-QBysZI6",
        "outputId": "5e9eab34-10b3-404c-b3e7-80f1ba885616"
      },
      "outputs": [
        {
          "name": "stdout",
          "output_type": "stream",
          "text": [
            "Acurácias da validação cruzada: [0.81564246 0.8258427  0.8258427  0.79213483 0.85955056]\n",
            "Acurácia média da validação cruzada: 0.82\n"
          ]
        }
      ],
      "source": [
        "scores = cross_val_score(modelo_otimizado, X_treinamento_new, y_treinamento, cv=5, scoring='accuracy')\n",
        "\n",
        "print(\"Acurácias da validação cruzada:\", scores)\n",
        "print(f\"Acurácia média da validação cruzada: {scores.mean():.2f}\")"
      ]
    },
    {
      "cell_type": "markdown",
      "metadata": {
        "id": "sBiaZgq_obTN"
      },
      "source": [
        "**Base de dados de Teste - Previsão**"
      ]
    },
    {
      "cell_type": "code",
      "execution_count": 44,
      "metadata": {
        "colab": {
          "base_uri": "https://localhost:8080/"
        },
        "id": "9oTmiK9MoaB5",
        "outputId": "289c85e3-d44b-4427-d276-77e3df434f93"
      },
      "outputs": [
        {
          "name": "stdout",
          "output_type": "stream",
          "text": [
            "Valores ausentes após o pré-processamento:\n",
            "Pclass      0\n",
            "Sex         0\n",
            "Age         0\n",
            "SibSp       0\n",
            "Parch       0\n",
            "Embarked    0\n",
            "dtype: int64\n"
          ]
        }
      ],
      "source": [
        "X_teste_new = X_teste\n",
        "#X_treinamento\n",
        "\n",
        "passengerids = X_teste['PassengerId']\n",
        "# Remoção de colunas que afetam o treinamento\n",
        "colunas_para_remover = [\"Name\", \"Ticket\", \"Cabin\", \"PassengerId\", \"Fare\"]\n",
        "X_teste_new = X_teste_new.drop(colunas_para_remover, axis=1)\n",
        "\n",
        "#Tratamento variáveis categóricas\n",
        "le = LabelEncoder()\n",
        "X_teste_new['Sex'] = le.fit_transform(X_teste_new['Sex'])\n",
        "X_teste_new['Embarked'] = le.fit_transform(X_teste_new['Embarked'])\n",
        "\n",
        "#Tratamento de valores ausentes (Age)\n",
        "mediana_idade = X_teste_new['Age'].median()\n",
        "X_teste_new['Age'] = X_teste_new['Age'].fillna(mediana_idade)\n",
        "\n",
        "print(\"Valores ausentes após o pré-processamento:\")\n",
        "print(X_teste_new.isnull().sum())"
      ]
    },
    {
      "cell_type": "markdown",
      "metadata": {
        "id": "CY_wM8-Vu-6p"
      },
      "source": [
        "**Previsões**"
      ]
    },
    {
      "cell_type": "code",
      "execution_count": 45,
      "metadata": {
        "colab": {
          "base_uri": "https://localhost:8080/"
        },
        "id": "cwoxK_YVpTc1",
        "outputId": "4cdadfdc-f5e1-4bad-d6e0-5e30594a13dd"
      },
      "outputs": [
        {
          "name": "stdout",
          "output_type": "stream",
          "text": [
            "Acurácia do modelo no conjunto de treinamento: 0.93\n"
          ]
        }
      ],
      "source": [
        "y_teste = y['Survived']\n",
        "previsoes = modelo_otimizado.predict(X_teste_new)\n",
        "acuracia = accuracy_score(y_teste, previsoes)\n",
        "print(f\"Acurácia do modelo no conjunto de treinamento: {acuracia:.2f}\")"
      ]
    },
    {
      "cell_type": "markdown",
      "metadata": {
        "id": "vaV7vAxovFEM"
      },
      "source": [
        "**Criação do arquivo CSV**"
      ]
    },
    {
      "cell_type": "code",
      "execution_count": 57,
      "metadata": {
        "id": "M8M75raSn2LP"
      },
      "outputs": [],
      "source": [
        "previsoes_int = previsoes.astype(int)\n",
        "submissao = pd.DataFrame({\n",
        "    'PassengerId':passengerids,\n",
        "    'Survived': previsoes_int\n",
        "})\n",
        "submissao = submissao.set_index('PassengerId')\n",
        "\n",
        "submissao.to_csv('Predict_Random_Forest.csv')"
      ]
    }
  ],
  "metadata": {
    "colab": {
      "provenance": []
    },
    "kernelspec": {
      "display_name": "Python 3",
      "name": "python3"
    },
    "language_info": {
      "name": "python"
    }
  },
  "nbformat": 4,
  "nbformat_minor": 0
}
